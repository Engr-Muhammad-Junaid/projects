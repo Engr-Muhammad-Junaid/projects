{
 "cells": [
  {
   "cell_type": "code",
   "execution_count": 1,
   "id": "e149f5b9-08a0-469f-9aef-2baa19d25c13",
   "metadata": {},
   "outputs": [],
   "source": [
    "import cv2\n",
    "import numpy as np\n",
    "import matplotlib.pyplot as plt"
   ]
  },
  {
   "cell_type": "code",
   "execution_count": 2,
   "id": "736cb394-5820-4dd0-a672-98c84251a446",
   "metadata": {},
   "outputs": [
    {
     "data": {
      "text/plain": [
       "(512, 512, 3)"
      ]
     },
     "execution_count": 2,
     "metadata": {},
     "output_type": "execute_result"
    }
   ],
   "source": [
    "blank_img=np.zeros(shape=(512,512,3),dtype=np.int8)\n",
    "blank_img.shape"
   ]
  },
  {
   "cell_type": "code",
   "execution_count": 6,
   "id": "ef7ffc3d-841c-4098-89bf-0d2572bc43a6",
   "metadata": {},
   "outputs": [],
   "source": [
    "def draw_circle(event,x,y,flags,param):\n",
    "    if event==cv2.EVENT_MOUSEMOVE:\n",
    "        cv2.circle(blank_img,(x,y),60,(255,0,0),-1)\n",
    "    if event==cv2.EVENT_RBUTTONDBLCLK:\n",
    "        cv2.rectangle(blank_img,pt1=(200,200),pt2=(300,300),color=(0,255,0),thickness=10)\n",
    "\n",
    "cv2.namedWindow(winname='my_drawing')\n",
    "cv2.setMouseCallback('my_drawing',draw_circle)\n",
    "while True:\n",
    "    cv2.imshow('my_drawing',blank_img)\n",
    "    if cv2.waitKey(20) & 0xFF==27:\n",
    "        break\n",
    "cv2.destroyAllWindows()"
   ]
  },
  {
   "cell_type": "code",
   "execution_count": null,
   "id": "51bcf6bc-7d00-4005-a0d6-d9883455d7d1",
   "metadata": {},
   "outputs": [],
   "source": [
    "#You don't call draw_circle, openCV will call it for you on a mouse event with the proper event and coordinates, \n",
    "#you just specify which function to be called for what window in setMouseCallback\n",
    "plt.imshow(blank_img)"
   ]
  },
  {
   "cell_type": "code",
   "execution_count": null,
   "id": "7a5f941e-e369-47f1-95de-c6fb51e27a99",
   "metadata": {},
   "outputs": [],
   "source": []
  },
  {
   "cell_type": "code",
   "execution_count": null,
   "id": "c37cad3c-9b6b-4917-bf09-2e2551749d74",
   "metadata": {},
   "outputs": [],
   "source": []
  }
 ],
 "metadata": {
  "kernelspec": {
   "display_name": "Python 3 (ipykernel)",
   "language": "python",
   "name": "python3"
  },
  "language_info": {
   "codemirror_mode": {
    "name": "ipython",
    "version": 3
   },
   "file_extension": ".py",
   "mimetype": "text/x-python",
   "name": "python",
   "nbconvert_exporter": "python",
   "pygments_lexer": "ipython3",
   "version": "3.9.12"
  }
 },
 "nbformat": 4,
 "nbformat_minor": 5
}
