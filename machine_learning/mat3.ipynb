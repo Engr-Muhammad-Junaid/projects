{
 "cells": [
  {
   "cell_type": "markdown",
   "metadata": {},
   "source": [
    "# Bar Charts and Analyzing Data from CSVs"
   ]
  },
  {
   "cell_type": "code",
   "execution_count": 96,
   "metadata": {},
   "outputs": [
    {
     "data": {
      "text/plain": [
       "Counter({'HTML/CSS': 55466,\n",
       "         'Java': 35917,\n",
       "         'JavaScript': 59219,\n",
       "         'Python': 36443,\n",
       "         'C++': 20524,\n",
       "         'C': 18017,\n",
       "         'C#': 27097,\n",
       "         'SQL': 47544,\n",
       "         'VBA': 4781,\n",
       "         'R': 5048,\n",
       "         'Bash/Shell/PowerShell': 31991,\n",
       "         'Ruby': 7331,\n",
       "         'Rust': 2794,\n",
       "         'TypeScript': 18523,\n",
       "         'WebAssembly': 1015,\n",
       "         'Other(s):': 7920,\n",
       "         'Go': 7201,\n",
       "         'PHP': 23030,\n",
       "         'Assembly': 5833,\n",
       "         'Kotlin': 5620,\n",
       "         'Swift': 5744,\n",
       "         'Objective-C': 4191,\n",
       "         'Elixir': 1260,\n",
       "         'Erlang': 777,\n",
       "         'Clojure': 1254,\n",
       "         'F#': 973,\n",
       "         'Scala': 3309,\n",
       "         'Dart': 1683})"
      ]
     },
     "execution_count": 96,
     "metadata": {},
     "output_type": "execute_result"
    }
   ],
   "source": [
    "import csv\n",
    "import numpy as np\n",
    "import pandas as pd\n",
    "from collections import Counter\n",
    "from matplotlib import pyplot as plt\n",
    "\n",
    "plt.style.use(\"fivethirtyeight\")\n",
    "\n",
    "data = pd.read_csv('F:\\jupyter\\data.csv')\n",
    "ids = data['Responder_id']\n",
    "lang_responses = data['LanguagesWorkedWith']\n",
    "\n",
    "language_counter = Counter()\n",
    "\n",
    "for response in lang_responses:\n",
    "    language_counter.update(response.split(';'))\n",
    "\n",
    "languages = []\n",
    "popularity = []\n",
    "\n",
    "for item in language_counter.most_common(15):\n",
    "    languages.append(item[0])\n",
    "    popularity.append(item[1])\n",
    "\n",
    "languages.reverse()\n",
    "popularity.reverse()\n",
    "\n",
    "plt.barh(languages, popularity)\n",
    "\n",
    "plt.title(\"Most Popular Languages\")\n",
    "# plt.ylabel(\"Programming Languages\")\n",
    "plt.xlabel(\"Number of People Who Use\")\n",
    "\n",
    "plt.tight_layout()\n",
    "\n",
    "plt.show()\n"
   ]
  },
  {
   "cell_type": "code",
   "execution_count": 81,
   "metadata": {},
   "outputs": [
    {
     "data": {
      "text/plain": [
       "Counter({'s': 1, 'h': 2, 'i': 2, 'n': 2, 'w': 1, 'a': 2, 'r': 1, 'k': 1})"
      ]
     },
     "execution_count": 81,
     "metadata": {},
     "output_type": "execute_result"
    }
   ],
   "source": [
    "#A Counter is a dict subclass for counting hashable objects.It is a collection where elements are \n",
    "#stored as dictionary keys and their counts are stored as dictionary values.\n",
    "\n",
    "from collections import Counter\n",
    "list=Counter('shinwari')\n",
    "list.update('khan')\n",
    "list"
   ]
  },
  {
   "cell_type": "code",
   "execution_count": 55,
   "metadata": {},
   "outputs": [
    {
     "data": {
      "text/plain": [
       "{'m': 1, 'i': 4, 's': 4, 'p': 2}"
      ]
     },
     "execution_count": 55,
     "metadata": {},
     "output_type": "execute_result"
    }
   ],
   "source": [
    "word = \"mississippi\"\n",
    "counter = {}\n",
    "\n",
    "for letter in word:\n",
    "    if letter not in counter:\n",
    "         counter[letter] = 0\n",
    "    counter[letter] += 1\n",
    "counter"
   ]
  },
  {
   "cell_type": "code",
   "execution_count": 59,
   "metadata": {},
   "outputs": [
    {
     "data": {
      "text/plain": [
       "{'k': 1, 'h': 1, 'a': 2, 'n': 1}"
      ]
     },
     "execution_count": 59,
     "metadata": {},
     "output_type": "execute_result"
    }
   ],
   "source": [
    "word='khaan'\n",
    "counter={}\n",
    "for i in word:\n",
    "    if i not in counter:\n",
    "        counter[i]=0\n",
    "    counter[i]+=1\n",
    "counter"
   ]
  },
  {
   "cell_type": "code",
   "execution_count": 142,
   "metadata": {},
   "outputs": [
    {
     "ename": "SyntaxError",
     "evalue": "keyword argument repeated (<ipython-input-142-2dd52cb7f67d>, line 10)",
     "output_type": "error",
     "traceback": [
      "\u001b[1;36m  File \u001b[1;32m\"<ipython-input-142-2dd52cb7f67d>\"\u001b[1;36m, line \u001b[1;32m10\u001b[0m\n\u001b[1;33m    plt.barh(list,list1,label='java',label='python')\u001b[0m\n\u001b[1;37m                                     ^\u001b[0m\n\u001b[1;31mSyntaxError\u001b[0m\u001b[1;31m:\u001b[0m keyword argument repeated\n"
     ]
    }
   ],
   "source": [
    "from collections import Counter\n",
    "item=['java','java','java','python','python','python','python','python','python']\n",
    "Counter(item)\n",
    "list=[]\n",
    "list1=[]\n",
    "plt.style.use(\"fivethirtyeight\")\n",
    "for i in Counter(item).most_common(2):\n",
    "    list.append(i[0])\n",
    "    list1.append(i[1])\n",
    "plt.barh(list,list1)\n",
    "plt.legend()\n",
    "plt.grid()\n",
    "plt.show()"
   ]
  },
  {
   "cell_type": "code",
   "execution_count": null,
   "metadata": {},
   "outputs": [],
   "source": []
  }
 ],
 "metadata": {
  "kernelspec": {
   "display_name": "Python 3",
   "language": "python",
   "name": "python3"
  },
  "language_info": {
   "codemirror_mode": {
    "name": "ipython",
    "version": 3
   },
   "file_extension": ".py",
   "mimetype": "text/x-python",
   "name": "python",
   "nbconvert_exporter": "python",
   "pygments_lexer": "ipython3",
   "version": "3.8.5"
  }
 },
 "nbformat": 4,
 "nbformat_minor": 4
}
